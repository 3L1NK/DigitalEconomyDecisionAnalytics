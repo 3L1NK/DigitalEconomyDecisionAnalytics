{
 "cells": [
  {
   "cell_type": "markdown",
   "metadata": {},
   "source": [
    "# Introduce the input and output in Python"
   ]
  },
  {
   "cell_type": "markdown",
   "metadata": {},
   "source": [
    "## 1. Package import and access to OS via Python"
   ]
  },
  {
   "cell_type": "code",
   "execution_count": 7,
   "metadata": {},
   "outputs": [
    {
     "name": "stdout",
     "output_type": "stream",
     "text": [
      "/Users/hujunjie/CodeBase/DEDA/DigitalEconomyDecisionAnalytics/DEDA_InputOutput\n",
      "['.DS_Store', 'DEDA_InputOutput.ipynb', 'DEDA_InputOutput.py', 'README.md', 'Metainfo.txt', '.ipynb_checkpoints', 'shakespeare.txt', 'AAPL.csv']\n"
     ]
    },
    {
     "data": {
      "text/plain": [
       "1024"
      ]
     },
     "execution_count": 7,
     "metadata": {},
     "output_type": "execute_result"
    }
   ],
   "source": [
    "# Using \"import\" can input packages (modules), .py files from defined paths\n",
    "# 2 ways to import\n",
    "import os\n",
    "# os module allows you to connect with your operation system\n",
    "# You can check, create, delete, rename your files and directories\n",
    "# Hint: path.exists(), listdir(), mkdir(), makedirs(), remove(), removedirs(), rename(), walk()\n",
    "path_direct = os.getcwd()\n",
    "print(path_direct)\n",
    "dir_files = os.listdir(path_direct)\n",
    "print(dir_files)\n",
    "\n",
    "# Give the package an alias\n",
    "import numpy as np\n",
    "\n",
    "np.power(2, 10)  # 1024\n"
   ]
  },
  {
   "cell_type": "code",
   "execution_count": null,
   "metadata": {},
   "outputs": [],
   "source": []
  },
  {
   "cell_type": "code",
   "execution_count": null,
   "metadata": {},
   "outputs": [],
   "source": []
  },
  {
   "cell_type": "code",
   "execution_count": null,
   "metadata": {},
   "outputs": [],
   "source": []
  },
  {
   "cell_type": "code",
   "execution_count": null,
   "metadata": {},
   "outputs": [],
   "source": []
  },
  {
   "cell_type": "code",
   "execution_count": null,
   "metadata": {},
   "outputs": [],
   "source": []
  },
  {
   "cell_type": "code",
   "execution_count": null,
   "metadata": {},
   "outputs": [],
   "source": []
  }
 ],
 "metadata": {
  "kernelspec": {
   "display_name": "Python 3",
   "language": "python",
   "name": "python3"
  },
  "language_info": {
   "codemirror_mode": {
    "name": "ipython",
    "version": 3
   },
   "file_extension": ".py",
   "mimetype": "text/x-python",
   "name": "python",
   "nbconvert_exporter": "python",
   "pygments_lexer": "ipython3",
   "version": "3.7.0"
  }
 },
 "nbformat": 4,
 "nbformat_minor": 2
}
