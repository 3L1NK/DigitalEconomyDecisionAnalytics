{
 "cells": [
  {
   "cell_type": "markdown",
   "metadata": {
    "id": "3t6Hx-YZDL9U"
   },
   "source": [
    "# **DEDA Unit 3:** Introduction of Web Scraping in Python "
   ]
  },
  {
   "cell_type": "markdown",
   "metadata": {
    "id": "xfIs_HieDtYN"
   },
   "source": [
    "#### **Reading XML Data Online**"
   ]
  },
  {
   "cell_type": "code",
   "execution_count": 13,
   "metadata": {
    "id": "qns6Bwi-DHn6"
   },
   "outputs": [],
   "source": [
    "\"\"\"\n",
    "We use json module to unpack data from webpage. \n",
    "\"\"\"\n",
    "\n",
    "import requests\n",
    "import xml.dom.minidom\n",
    "\n",
    "response = requests.get(\"https://home.treasury.gov/sites/default/files/interest-rates/daily_treas_bill_rates.xml\")\n",
    "content = response.content\n",
    "\n",
    "dataDOM = xml.dom.minidom.parseString(content)\n",
    "response = requests.get(\"https://news.google.com/news/rss/headlines/section/q/finance%20news/finance%20news?ned=us&hl=en\")"
   ]
  },
  {
   "cell_type": "markdown",
   "metadata": {
    "id": "dom_6vR4Dne1"
   },
   "source": [
    "#### **Reading JSON Data Online**"
   ]
  },
  {
   "cell_type": "code",
   "execution_count": 15,
   "metadata": {
    "colab": {
     "base_uri": "https://localhost:8080/"
    },
    "id": "KRd5hibqDmra",
    "outputId": "ac6eff1f-d80d-4ec8-de56-5be6371b9b11"
   },
   "outputs": [
    {
     "name": "stdout",
     "output_type": "stream",
     "text": [
      "    Year     Count\n",
      "0   2012  12481013\n",
      "1   2011  12028710\n",
      "2   2010  14005102\n",
      "3   2009  14045147\n",
      "4   2008  16054336\n",
      "5   2007  18581977\n",
      "6   2006  12333428\n",
      "7   2005  10412146\n",
      "8   2004   9046790\n",
      "9   2003   7355537\n",
      "10  2002   7217320\n",
      "11  2001   7182304\n",
      "12  2000   7367472\n",
      "13  1999   6801129\n",
      "14  1998   6557987\n",
      "15  1997   6330968\n",
      "16  1996   5531268\n",
      "17  1995   5242488\n",
      "18  1994   4748763\n",
      "19  1993   3912154\n",
      "20  1992   3479946\n",
      "21  1991   3124527\n",
      "22  1990   3704833\n",
      "23  1989   3663323\n",
      "24  1988   4206472\n",
      "25  1987   4794993\n",
      "26  1986   4114532\n"
     ]
    }
   ],
   "source": [
    "\"\"\"\n",
    "We use json module to unpack US GOV data and receive the number of US passport applications each fiscal year from https://cadatacatalog.state.gov/dataset .\n",
    "\"\"\"\n",
    "\n",
    "import requests\n",
    "import json\n",
    "import pandas as pd\n",
    "\n",
    "url = 'https://cadatacatalog.state.gov/dataset/a765ec3a-cf98-4722-a562-40c3f03d24d5/resource/a3bb04a8-dcda-4a03-ba87-e4ec63f2c4c3/download/passportapplicationbyfiscalyear.json'\n",
    "\n",
    "response = requests.get(url)\n",
    "content = json.loads(response.content)\n",
    "Year = [item['Year'] for item in content]\n",
    "Count = [item['Count'] for item in content]\n",
    "\n",
    "Info = zip(Year, Count)\n",
    "PassportData = pd.DataFrame(list(Info), columns=['Year', 'Count'])\n",
    "print(PassportData)"
   ]
  },
  {
   "cell_type": "markdown",
   "metadata": {
    "id": "z41QG8-DFEA5"
   },
   "source": [
    "#### **Webpage with RSS Feed**"
   ]
  },
  {
   "cell_type": "code",
   "execution_count": 12,
   "metadata": {
    "colab": {
     "base_uri": "https://localhost:8080/"
    },
    "id": "mJ7geYggEuzN",
    "outputId": "69cf6791-87a1-4bf7-fff6-ebbd75112f13"
   },
   "outputs": [
    {
     "name": "stdout",
     "output_type": "stream",
     "text": [
      "Requirement already satisfied: feedparser in /usr/local/lib/python3.7/dist-packages (6.0.8)\n",
      "Requirement already satisfied: sgmllib3k in /usr/local/lib/python3.7/dist-packages (from feedparser) (1.0.0)\n",
      "0.US to demand halt to Nord Stream 2 if Russia invades Ukraine\n",
      "1.The next quant revolution: shaking up the corporate bond market\n",
      "2.Latest news updates: Kellogg workers reject deal and extend two-month long strike\n",
      "3.Global stocks steam ahead after days of volatility\n",
      "4.Biden pick to lead bank regulator withdraws her nomination\n",
      "5.Congressional leaders open the way for deal to raise US debt ceiling\n",
      "6.Beijing seeks to orchestrate slow-motion collapse for Evergrande\n",
      "7.Buyout firm Thoma Bravo goes from niche to big league\n",
      "8.The west is a victim of its own long peace\n",
      "9.UAE to shift weekend and create shorter working week\n",
      "10.French police arrest Saudi national over killing of Jamal Khashoggi\n",
      "11.Evergrande bondholders yet to be paid as crucial debt deadline passes\n",
      "12.‘Too many mistakes’: Peru’s president threatened with impeachment after shaky start\n",
      "13.New German finance minister signals openness on EU fiscal rules\n",
      "14.Offshoot of Omicron variant could make global tracking more difficult\n",
      "15.Uber grapples with multiple challenges to business model in Europe\n",
      "16.AB InBev chief dismisses notion beer is losing ground to spirits\n",
      "17.Omicron adds to doubts over ECB’s commitment to further stimulus\n",
      "18.Deutsche Bahn’s auditor not fully informed on whistleblower complaint\n",
      "19.Samsung heir launches management shake-up\n"
     ]
    }
   ],
   "source": [
    "\"\"\"\n",
    "Retrieving the titles from the Financial Times Website (https://www.ft.com/?edition=international) \n",
    "\"\"\"\n",
    "!pip install feedparser\n",
    "import feedparser\n",
    "news = feedparser.parse(\"https://www.ft.com/?edition=international&format=rss\")\n",
    "\n",
    "for index, item in enumerate(news.entries): # list all titles\n",
    "    print(\"{0}.{1}\".format(index, item[\"title\"]))"
   ]
  }
 ],
 "metadata": {
  "colab": {
   "name": "DEDAUnit3.ipynb",
   "provenance": []
  },
  "kernelspec": {
   "display_name": "Python 3",
   "language": "python",
   "name": "python3"
  },
  "language_info": {
   "codemirror_mode": {
    "name": "ipython",
    "version": 3
   },
   "file_extension": ".py",
   "mimetype": "text/x-python",
   "name": "python",
   "nbconvert_exporter": "python",
   "pygments_lexer": "ipython3",
   "version": "3.8.5"
  }
 },
 "nbformat": 4,
 "nbformat_minor": 1
}
